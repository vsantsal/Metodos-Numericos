{
 "cells": [
  {
   "cell_type": "markdown",
   "metadata": {},
   "source": [
    "# Métodos diretos de resolução de sistemas lineares - A Regra de Cramer"
   ]
  },
  {
   "cell_type": "markdown",
   "metadata": {},
   "source": [
    "Há diversas formas de resolver sistemas lineares $n x n$. Uma maneira popular entre os estudantes de ensino médio é a regra de Cramer.\n",
    "\n",
    "Para um sistema $Ax = b$ de ordem $n$, calculamos o determinante $D$ da matriz $A$ e, para cada $x_j, j = 1, \\dots, n$, calculamos os respectivos determinantes $D_j$, que são os determinantes das matrizes obtidas a partir de $A$ substituindo-se a coluna $j$ pelo vetor $b$.\n",
    "\n",
    "Os valores das variáveis serão $x_1 = \\frac{D_1}{D}, \\dots, x_n = \\frac{D_n}{D}$.\n",
    "\n",
    "No entanto, é notória a ineficiência computacional deste método, cuja complexidade é de ordem fatorial, conforme exibiremos brevemente mais abaixo, mesmo utilizando cálculo de determinante de forma otimizada, disponível no módulo [*numpy*](http://www.numpy.org/)."
   ]
  },
  {
   "cell_type": "markdown",
   "metadata": {},
   "source": [
    "## Regra de Cramer"
   ]
  },
  {
   "cell_type": "markdown",
   "metadata": {},
   "source": [
    "Importaremos o módulo *numpy* para utilizar sua função de cálculo de determinante para uma matriz quadrada, dentro de nossa rotina de implementação da regra de Cramer."
   ]
  },
  {
   "cell_type": "code",
   "execution_count": 1,
   "metadata": {},
   "outputs": [],
   "source": [
    "#importando o numpy (alias np)\n",
    "import numpy as np"
   ]
  },
  {
   "cell_type": "markdown",
   "metadata": {},
   "source": [
    "Definição da função *regra_de_cramer*, que receberá dois parâmetros:\n",
    "\n",
    "* Uma matriz quadrada $A$ de ordem $n$ (matriz dos coeficientes do sistema)\n",
    "* Um vetor $b$ de dimensão $n$ (vetor constante)\n",
    "\n",
    "O resultado da função será o vetor $x$, também de ordem $n$ (*vetor solução do sistema*).\n",
    "\n",
    "Restringiremos nossa função a sistemas de soluções únicas."
   ]
  },
  {
   "cell_type": "code",
   "execution_count": 2,
   "metadata": {},
   "outputs": [],
   "source": [
    "#definindo função\n",
    "def regra_de_cramer(matriz_coef, vetor_const):\n",
    "    \n",
    "    \"\"\"\n",
    "    Conforme explicado na célula anterior, a função recebe dois argumentos (uma matriz quadrada e \n",
    "    um vetor) e retorna um vetor solução para o sistema\n",
    "    \"\"\"    \n",
    "    \n",
    "    #série de verificações sobre os argumentos da função\n",
    "    if vetor_const.ndim > 1:\n",
    "        raise Exception('O segundo argumento deve ser um vetor unidimensional!')\n",
    "    \n",
    "    if matriz_coef.ndim > 2:\n",
    "        raise Exception('O primeiro argumento deve ser uma matriz, isto é, um array bidimensional!')\n",
    "    \n",
    "    if matriz_coef.shape[0] != matriz_coef.shape[1]:\n",
    "        raise Exception('O primeiro argumento deve ser uma matriz quadrada!')\n",
    "    \n",
    "    #garantindo que o input é matriz\n",
    "    matriz_coef = np.asmatrix(matriz_coef)\n",
    "    \n",
    "    #determinante da matriz de coeficientes A\n",
    "    d = np.linalg.det(matriz_coef)\n",
    "    \n",
    "    #A rotina será limitada a sistemas com solução única.\n",
    "    if d == 0:\n",
    "        raise Exception('O primeiro argumento deve ser uma matriz quadrada com determinante diferente de zero')\n",
    "        \n",
    "    #Criação de vetor que receberá os determinantes obtidos pelas permutações das colunas de A com o vetor b\n",
    "    d_is = np.empty(vetor_const.size)\n",
    "    \n",
    "    #loop para preenchimento do vetor com os determinantes\n",
    "    for x in range(vetor_const.size):\n",
    "        \n",
    "        #criação de matriz temporária\n",
    "        #np.copy para que matriz_temp e matriz_coef sejam objetos diferentes (e não nomes diferentes para a mesma referência)\n",
    "        #np.asmatrix para converter para matriz o resultado de np.copy\n",
    "        matriz_temp = np.asmatrix(np.copy(matriz_coef))\n",
    "                        \n",
    "        #substituição da i-ésima coluna pelo vetor b\n",
    "        #necessário converter o vetor b para matriz (np.asmatrix) e transpor (.T)\n",
    "        matriz_temp[:, x] = np.asmatrix(vetor_const).T\n",
    "                        \n",
    "        #determinante da matriz temporária e armazenamento no vetor de determinantes\n",
    "        d_is[x] = np.linalg.det(matriz_temp)\n",
    "                            \n",
    "    #list comprehension com os determinantes\n",
    "    x = [i/d for i in d_is]\n",
    "        \n",
    "    #resultado da função (convertendo em numpy array)\n",
    "    return np.array(x)"
   ]
  },
  {
   "cell_type": "markdown",
   "metadata": {},
   "source": [
    "## Testes de performance"
   ]
  },
  {
   "cell_type": "markdown",
   "metadata": {},
   "source": [
    "Conforme o tamanho do sistema cresce, sabemos que o desempenho cairá drasticamente, como dito acima.\n",
    "\n",
    "Exibiremos abaixo uma pequena bateria de testes exemplificando, fazendo o número de equações e incógnitas de nosso sistema, $n$, variar de 1 a 1000.\n",
    "\n",
    "Evidentemente, como construímos a função *regra_de_cramer* sobre o módulo *numpy*, já otimizado, não teremos decaimento de performance absurda, mas a comparação de *regra_de_cramer* com a função *numpy.linalg.solve* será bastante ilustrativa."
   ]
  },
  {
   "cell_type": "code",
   "execution_count": 3,
   "metadata": {},
   "outputs": [
    {
     "name": "stdout",
     "output_type": "stream",
     "text": [
      "24.8 ms ± 0 ns per loop (mean ± std. dev. of 1 run, 1 loop each)\n",
      "388 µs ± 0 ns per loop (mean ± std. dev. of 1 run, 1 loop each)\n",
      "1.18 ms ± 0 ns per loop (mean ± std. dev. of 1 run, 1 loop each)\n",
      "234 µs ± 0 ns per loop (mean ± std. dev. of 1 run, 1 loop each)\n",
      "3.97 ms ± 0 ns per loop (mean ± std. dev. of 1 run, 1 loop each)\n",
      "248 µs ± 0 ns per loop (mean ± std. dev. of 1 run, 1 loop each)\n",
      "597 µs ± 0 ns per loop (mean ± std. dev. of 1 run, 1 loop each)\n",
      "234 µs ± 0 ns per loop (mean ± std. dev. of 1 run, 1 loop each)\n",
      "989 µs ± 0 ns per loop (mean ± std. dev. of 1 run, 1 loop each)\n",
      "217 µs ± 0 ns per loop (mean ± std. dev. of 1 run, 1 loop each)\n",
      "1.48 ms ± 0 ns per loop (mean ± std. dev. of 1 run, 1 loop each)\n",
      "213 µs ± 0 ns per loop (mean ± std. dev. of 1 run, 1 loop each)\n",
      "1.32 ms ± 0 ns per loop (mean ± std. dev. of 1 run, 1 loop each)\n",
      "242 µs ± 0 ns per loop (mean ± std. dev. of 1 run, 1 loop each)\n",
      "1.15 ms ± 0 ns per loop (mean ± std. dev. of 1 run, 1 loop each)\n",
      "160 µs ± 0 ns per loop (mean ± std. dev. of 1 run, 1 loop each)\n",
      "1.26 ms ± 0 ns per loop (mean ± std. dev. of 1 run, 1 loop each)\n",
      "155 µs ± 0 ns per loop (mean ± std. dev. of 1 run, 1 loop each)\n",
      "1.29 ms ± 0 ns per loop (mean ± std. dev. of 1 run, 1 loop each)\n",
      "6.44 ms ± 0 ns per loop (mean ± std. dev. of 1 run, 1 loop each)\n",
      "1.31 ms ± 0 ns per loop (mean ± std. dev. of 1 run, 1 loop each)\n",
      "160 µs ± 0 ns per loop (mean ± std. dev. of 1 run, 1 loop each)\n",
      "1.43 ms ± 0 ns per loop (mean ± std. dev. of 1 run, 1 loop each)\n",
      "164 µs ± 0 ns per loop (mean ± std. dev. of 1 run, 1 loop each)\n",
      "1.45 ms ± 0 ns per loop (mean ± std. dev. of 1 run, 1 loop each)\n",
      "203 µs ± 0 ns per loop (mean ± std. dev. of 1 run, 1 loop each)\n",
      "2.52 ms ± 0 ns per loop (mean ± std. dev. of 1 run, 1 loop each)\n",
      "219 µs ± 0 ns per loop (mean ± std. dev. of 1 run, 1 loop each)\n",
      "3.05 ms ± 0 ns per loop (mean ± std. dev. of 1 run, 1 loop each)\n",
      "176 µs ± 0 ns per loop (mean ± std. dev. of 1 run, 1 loop each)\n",
      "3.73 ms ± 0 ns per loop (mean ± std. dev. of 1 run, 1 loop each)\n",
      "264 µs ± 0 ns per loop (mean ± std. dev. of 1 run, 1 loop each)\n",
      "3.49 ms ± 0 ns per loop (mean ± std. dev. of 1 run, 1 loop each)\n",
      "234 µs ± 0 ns per loop (mean ± std. dev. of 1 run, 1 loop each)\n",
      "3.32 ms ± 0 ns per loop (mean ± std. dev. of 1 run, 1 loop each)\n",
      "278 µs ± 0 ns per loop (mean ± std. dev. of 1 run, 1 loop each)\n",
      "4.89 ms ± 0 ns per loop (mean ± std. dev. of 1 run, 1 loop each)\n",
      "825 µs ± 0 ns per loop (mean ± std. dev. of 1 run, 1 loop each)\n",
      "5.24 ms ± 0 ns per loop (mean ± std. dev. of 1 run, 1 loop each)\n",
      "290 µs ± 0 ns per loop (mean ± std. dev. of 1 run, 1 loop each)\n",
      "4.73 ms ± 0 ns per loop (mean ± std. dev. of 1 run, 1 loop each)\n",
      "285 µs ± 0 ns per loop (mean ± std. dev. of 1 run, 1 loop each)\n",
      "5.15 ms ± 0 ns per loop (mean ± std. dev. of 1 run, 1 loop each)\n",
      "281 µs ± 0 ns per loop (mean ± std. dev. of 1 run, 1 loop each)\n",
      "5.93 ms ± 0 ns per loop (mean ± std. dev. of 1 run, 1 loop each)\n",
      "280 µs ± 0 ns per loop (mean ± std. dev. of 1 run, 1 loop each)\n",
      "6.87 ms ± 0 ns per loop (mean ± std. dev. of 1 run, 1 loop each)\n",
      "292 µs ± 0 ns per loop (mean ± std. dev. of 1 run, 1 loop each)\n",
      "7.56 ms ± 0 ns per loop (mean ± std. dev. of 1 run, 1 loop each)\n",
      "256 µs ± 0 ns per loop (mean ± std. dev. of 1 run, 1 loop each)\n",
      "7.19 ms ± 0 ns per loop (mean ± std. dev. of 1 run, 1 loop each)\n",
      "257 µs ± 0 ns per loop (mean ± std. dev. of 1 run, 1 loop each)\n",
      "7.17 ms ± 0 ns per loop (mean ± std. dev. of 1 run, 1 loop each)\n",
      "323 µs ± 0 ns per loop (mean ± std. dev. of 1 run, 1 loop each)\n",
      "11.1 ms ± 0 ns per loop (mean ± std. dev. of 1 run, 1 loop each)\n",
      "555 µs ± 0 ns per loop (mean ± std. dev. of 1 run, 1 loop each)\n",
      "12.6 ms ± 0 ns per loop (mean ± std. dev. of 1 run, 1 loop each)\n",
      "350 µs ± 0 ns per loop (mean ± std. dev. of 1 run, 1 loop each)\n",
      "13.6 ms ± 0 ns per loop (mean ± std. dev. of 1 run, 1 loop each)\n",
      "1.02 ms ± 0 ns per loop (mean ± std. dev. of 1 run, 1 loop each)\n",
      "11.1 ms ± 0 ns per loop (mean ± std. dev. of 1 run, 1 loop each)\n",
      "316 µs ± 0 ns per loop (mean ± std. dev. of 1 run, 1 loop each)\n",
      "9.85 ms ± 0 ns per loop (mean ± std. dev. of 1 run, 1 loop each)\n",
      "359 µs ± 0 ns per loop (mean ± std. dev. of 1 run, 1 loop each)\n",
      "10.1 ms ± 0 ns per loop (mean ± std. dev. of 1 run, 1 loop each)\n",
      "414 µs ± 0 ns per loop (mean ± std. dev. of 1 run, 1 loop each)\n",
      "9.98 ms ± 0 ns per loop (mean ± std. dev. of 1 run, 1 loop each)\n",
      "332 µs ± 0 ns per loop (mean ± std. dev. of 1 run, 1 loop each)\n",
      "10.5 ms ± 0 ns per loop (mean ± std. dev. of 1 run, 1 loop each)\n",
      "281 µs ± 0 ns per loop (mean ± std. dev. of 1 run, 1 loop each)\n",
      "6.58 ms ± 0 ns per loop (mean ± std. dev. of 1 run, 1 loop each)\n",
      "386 µs ± 0 ns per loop (mean ± std. dev. of 1 run, 1 loop each)\n",
      "8.22 ms ± 0 ns per loop (mean ± std. dev. of 1 run, 1 loop each)\n",
      "263 µs ± 0 ns per loop (mean ± std. dev. of 1 run, 1 loop each)\n",
      "6.83 ms ± 0 ns per loop (mean ± std. dev. of 1 run, 1 loop each)\n",
      "268 µs ± 0 ns per loop (mean ± std. dev. of 1 run, 1 loop each)\n",
      "7.24 ms ± 0 ns per loop (mean ± std. dev. of 1 run, 1 loop each)\n",
      "270 µs ± 0 ns per loop (mean ± std. dev. of 1 run, 1 loop each)\n",
      "7.58 ms ± 0 ns per loop (mean ± std. dev. of 1 run, 1 loop each)\n",
      "303 µs ± 0 ns per loop (mean ± std. dev. of 1 run, 1 loop each)\n",
      "8.97 ms ± 0 ns per loop (mean ± std. dev. of 1 run, 1 loop each)\n",
      "250 µs ± 0 ns per loop (mean ± std. dev. of 1 run, 1 loop each)\n",
      "13.2 ms ± 0 ns per loop (mean ± std. dev. of 1 run, 1 loop each)\n",
      "428 µs ± 0 ns per loop (mean ± std. dev. of 1 run, 1 loop each)\n",
      "9.88 ms ± 0 ns per loop (mean ± std. dev. of 1 run, 1 loop each)\n",
      "262 µs ± 0 ns per loop (mean ± std. dev. of 1 run, 1 loop each)\n",
      "9.26 ms ± 0 ns per loop (mean ± std. dev. of 1 run, 1 loop each)\n",
      "272 µs ± 0 ns per loop (mean ± std. dev. of 1 run, 1 loop each)\n",
      "8.75 ms ± 0 ns per loop (mean ± std. dev. of 1 run, 1 loop each)\n",
      "274 µs ± 0 ns per loop (mean ± std. dev. of 1 run, 1 loop each)\n",
      "10.4 ms ± 0 ns per loop (mean ± std. dev. of 1 run, 1 loop each)\n",
      "284 µs ± 0 ns per loop (mean ± std. dev. of 1 run, 1 loop each)\n",
      "10.5 ms ± 0 ns per loop (mean ± std. dev. of 1 run, 1 loop each)\n",
      "289 µs ± 0 ns per loop (mean ± std. dev. of 1 run, 1 loop each)\n",
      "11.6 ms ± 0 ns per loop (mean ± std. dev. of 1 run, 1 loop each)\n",
      "292 µs ± 0 ns per loop (mean ± std. dev. of 1 run, 1 loop each)\n",
      "10.1 ms ± 0 ns per loop (mean ± std. dev. of 1 run, 1 loop each)\n",
      "288 µs ± 0 ns per loop (mean ± std. dev. of 1 run, 1 loop each)\n",
      "10.9 ms ± 0 ns per loop (mean ± std. dev. of 1 run, 1 loop each)\n",
      "296 µs ± 0 ns per loop (mean ± std. dev. of 1 run, 1 loop each)\n",
      "12.1 ms ± 0 ns per loop (mean ± std. dev. of 1 run, 1 loop each)\n",
      "283 µs ± 0 ns per loop (mean ± std. dev. of 1 run, 1 loop each)\n",
      "12.4 ms ± 0 ns per loop (mean ± std. dev. of 1 run, 1 loop each)\n",
      "317 µs ± 0 ns per loop (mean ± std. dev. of 1 run, 1 loop each)\n",
      "11.9 ms ± 0 ns per loop (mean ± std. dev. of 1 run, 1 loop each)\n",
      "317 µs ± 0 ns per loop (mean ± std. dev. of 1 run, 1 loop each)\n",
      "17.7 ms ± 0 ns per loop (mean ± std. dev. of 1 run, 1 loop each)\n",
      "490 µs ± 0 ns per loop (mean ± std. dev. of 1 run, 1 loop each)\n",
      "17.6 ms ± 0 ns per loop (mean ± std. dev. of 1 run, 1 loop each)\n",
      "512 µs ± 0 ns per loop (mean ± std. dev. of 1 run, 1 loop each)\n",
      "16.2 ms ± 0 ns per loop (mean ± std. dev. of 1 run, 1 loop each)\n",
      "313 µs ± 0 ns per loop (mean ± std. dev. of 1 run, 1 loop each)\n",
      "13.7 ms ± 0 ns per loop (mean ± std. dev. of 1 run, 1 loop each)\n",
      "321 µs ± 0 ns per loop (mean ± std. dev. of 1 run, 1 loop each)\n",
      "14.6 ms ± 0 ns per loop (mean ± std. dev. of 1 run, 1 loop each)\n",
      "323 µs ± 0 ns per loop (mean ± std. dev. of 1 run, 1 loop each)\n",
      "15.7 ms ± 0 ns per loop (mean ± std. dev. of 1 run, 1 loop each)\n",
      "313 µs ± 0 ns per loop (mean ± std. dev. of 1 run, 1 loop each)\n",
      "15.6 ms ± 0 ns per loop (mean ± std. dev. of 1 run, 1 loop each)\n",
      "366 µs ± 0 ns per loop (mean ± std. dev. of 1 run, 1 loop each)\n",
      "17.5 ms ± 0 ns per loop (mean ± std. dev. of 1 run, 1 loop each)\n",
      "421 µs ± 0 ns per loop (mean ± std. dev. of 1 run, 1 loop each)\n",
      "18.7 ms ± 0 ns per loop (mean ± std. dev. of 1 run, 1 loop each)\n",
      "373 µs ± 0 ns per loop (mean ± std. dev. of 1 run, 1 loop each)\n",
      "23.2 ms ± 0 ns per loop (mean ± std. dev. of 1 run, 1 loop each)\n",
      "479 µs ± 0 ns per loop (mean ± std. dev. of 1 run, 1 loop each)\n",
      "66.7 ms ± 0 ns per loop (mean ± std. dev. of 1 run, 1 loop each)\n",
      "498 µs ± 0 ns per loop (mean ± std. dev. of 1 run, 1 loop each)\n",
      "72.7 ms ± 0 ns per loop (mean ± std. dev. of 1 run, 1 loop each)\n",
      "634 µs ± 0 ns per loop (mean ± std. dev. of 1 run, 1 loop each)\n"
     ]
    },
    {
     "name": "stdout",
     "output_type": "stream",
     "text": [
      "113 ms ± 0 ns per loop (mean ± std. dev. of 1 run, 1 loop each)\n",
      "534 µs ± 0 ns per loop (mean ± std. dev. of 1 run, 1 loop each)\n",
      "33.6 ms ± 0 ns per loop (mean ± std. dev. of 1 run, 1 loop each)\n",
      "540 µs ± 0 ns per loop (mean ± std. dev. of 1 run, 1 loop each)\n",
      "34.9 ms ± 0 ns per loop (mean ± std. dev. of 1 run, 1 loop each)\n",
      "500 µs ± 0 ns per loop (mean ± std. dev. of 1 run, 1 loop each)\n",
      "33.9 ms ± 0 ns per loop (mean ± std. dev. of 1 run, 1 loop each)\n",
      "755 µs ± 0 ns per loop (mean ± std. dev. of 1 run, 1 loop each)\n",
      "28.7 ms ± 0 ns per loop (mean ± std. dev. of 1 run, 1 loop each)\n",
      "472 µs ± 0 ns per loop (mean ± std. dev. of 1 run, 1 loop each)\n",
      "36.6 ms ± 0 ns per loop (mean ± std. dev. of 1 run, 1 loop each)\n",
      "426 µs ± 0 ns per loop (mean ± std. dev. of 1 run, 1 loop each)\n",
      "62.5 ms ± 0 ns per loop (mean ± std. dev. of 1 run, 1 loop each)\n",
      "617 µs ± 0 ns per loop (mean ± std. dev. of 1 run, 1 loop each)\n",
      "31 ms ± 0 ns per loop (mean ± std. dev. of 1 run, 1 loop each)\n",
      "427 µs ± 0 ns per loop (mean ± std. dev. of 1 run, 1 loop each)\n",
      "33.7 ms ± 0 ns per loop (mean ± std. dev. of 1 run, 1 loop each)\n",
      "406 µs ± 0 ns per loop (mean ± std. dev. of 1 run, 1 loop each)\n",
      "25.2 ms ± 0 ns per loop (mean ± std. dev. of 1 run, 1 loop each)\n",
      "575 µs ± 0 ns per loop (mean ± std. dev. of 1 run, 1 loop each)\n",
      "32.9 ms ± 0 ns per loop (mean ± std. dev. of 1 run, 1 loop each)\n",
      "424 µs ± 0 ns per loop (mean ± std. dev. of 1 run, 1 loop each)\n",
      "24.4 ms ± 0 ns per loop (mean ± std. dev. of 1 run, 1 loop each)\n",
      "410 µs ± 0 ns per loop (mean ± std. dev. of 1 run, 1 loop each)\n",
      "40 ms ± 0 ns per loop (mean ± std. dev. of 1 run, 1 loop each)\n",
      "629 µs ± 0 ns per loop (mean ± std. dev. of 1 run, 1 loop each)\n",
      "26.4 ms ± 0 ns per loop (mean ± std. dev. of 1 run, 1 loop each)\n",
      "455 µs ± 0 ns per loop (mean ± std. dev. of 1 run, 1 loop each)\n",
      "31.5 ms ± 0 ns per loop (mean ± std. dev. of 1 run, 1 loop each)\n",
      "453 µs ± 0 ns per loop (mean ± std. dev. of 1 run, 1 loop each)\n",
      "25.9 ms ± 0 ns per loop (mean ± std. dev. of 1 run, 1 loop each)\n",
      "411 µs ± 0 ns per loop (mean ± std. dev. of 1 run, 1 loop each)\n",
      "37.4 ms ± 0 ns per loop (mean ± std. dev. of 1 run, 1 loop each)\n",
      "616 µs ± 0 ns per loop (mean ± std. dev. of 1 run, 1 loop each)\n",
      "41.2 ms ± 0 ns per loop (mean ± std. dev. of 1 run, 1 loop each)\n",
      "585 µs ± 0 ns per loop (mean ± std. dev. of 1 run, 1 loop each)\n",
      "41.7 ms ± 0 ns per loop (mean ± std. dev. of 1 run, 1 loop each)\n",
      "474 µs ± 0 ns per loop (mean ± std. dev. of 1 run, 1 loop each)\n",
      "29.2 ms ± 0 ns per loop (mean ± std. dev. of 1 run, 1 loop each)\n",
      "437 µs ± 0 ns per loop (mean ± std. dev. of 1 run, 1 loop each)\n",
      "29.5 ms ± 0 ns per loop (mean ± std. dev. of 1 run, 1 loop each)\n",
      "486 µs ± 0 ns per loop (mean ± std. dev. of 1 run, 1 loop each)\n",
      "43.6 ms ± 0 ns per loop (mean ± std. dev. of 1 run, 1 loop each)\n",
      "428 µs ± 0 ns per loop (mean ± std. dev. of 1 run, 1 loop each)\n",
      "37.8 ms ± 0 ns per loop (mean ± std. dev. of 1 run, 1 loop each)\n",
      "422 µs ± 0 ns per loop (mean ± std. dev. of 1 run, 1 loop each)\n",
      "33.2 ms ± 0 ns per loop (mean ± std. dev. of 1 run, 1 loop each)\n",
      "434 µs ± 0 ns per loop (mean ± std. dev. of 1 run, 1 loop each)\n",
      "29 ms ± 0 ns per loop (mean ± std. dev. of 1 run, 1 loop each)\n",
      "444 µs ± 0 ns per loop (mean ± std. dev. of 1 run, 1 loop each)\n",
      "44.9 ms ± 0 ns per loop (mean ± std. dev. of 1 run, 1 loop each)\n",
      "586 µs ± 0 ns per loop (mean ± std. dev. of 1 run, 1 loop each)\n",
      "47.2 ms ± 0 ns per loop (mean ± std. dev. of 1 run, 1 loop each)\n",
      "563 µs ± 0 ns per loop (mean ± std. dev. of 1 run, 1 loop each)\n",
      "48.6 ms ± 0 ns per loop (mean ± std. dev. of 1 run, 1 loop each)\n",
      "588 µs ± 0 ns per loop (mean ± std. dev. of 1 run, 1 loop each)\n",
      "44.5 ms ± 0 ns per loop (mean ± std. dev. of 1 run, 1 loop each)\n",
      "537 µs ± 0 ns per loop (mean ± std. dev. of 1 run, 1 loop each)\n",
      "53.6 ms ± 0 ns per loop (mean ± std. dev. of 1 run, 1 loop each)\n",
      "2.15 ms ± 0 ns per loop (mean ± std. dev. of 1 run, 1 loop each)\n",
      "45.7 ms ± 0 ns per loop (mean ± std. dev. of 1 run, 1 loop each)\n",
      "760 µs ± 0 ns per loop (mean ± std. dev. of 1 run, 1 loop each)\n",
      "54.2 ms ± 0 ns per loop (mean ± std. dev. of 1 run, 1 loop each)\n",
      "570 µs ± 0 ns per loop (mean ± std. dev. of 1 run, 1 loop each)\n",
      "43.8 ms ± 0 ns per loop (mean ± std. dev. of 1 run, 1 loop each)\n",
      "565 µs ± 0 ns per loop (mean ± std. dev. of 1 run, 1 loop each)\n",
      "69.7 ms ± 0 ns per loop (mean ± std. dev. of 1 run, 1 loop each)\n",
      "619 µs ± 0 ns per loop (mean ± std. dev. of 1 run, 1 loop each)\n",
      "51.8 ms ± 0 ns per loop (mean ± std. dev. of 1 run, 1 loop each)\n",
      "584 µs ± 0 ns per loop (mean ± std. dev. of 1 run, 1 loop each)\n"
     ]
    }
   ],
   "source": [
    "#número de execuções da bateria\n",
    "n = 100\n",
    "\n",
    "#arrays para armazenar os tempos de execução de cada função\n",
    "res_regra = np.empty(n)\n",
    "res_solve = np.empty(n)\n",
    "\n",
    "for i in range(n):\n",
    "    \n",
    "    #estabelecimento de matriz quadrada (elementos provindo de uma distribuição normal padrão)\n",
    "    A = np.asmatrix(np.random.randn(i, i))\n",
    "    \n",
    "    #estabelecimento do vetor constante\n",
    "    b = np.random.randn(i)\n",
    "    \n",
    "    #https://stackoverflow.com/questions/52738709/how-to-store-time-values-in-a-variable-in-jupyter\n",
    "    #no endereço acima há uma resposta mostrando como armazenar em uma variável os resultados de %timeit\n",
    "    #e explicando o significado dos parâmetros -n1 -r1 e -o\n",
    "    \n",
    "    res_aux = %timeit -n1 -r1 -o regra_de_cramer(A,b)\n",
    "    res_regra[i] = res_aux.average\n",
    "    res_aux = %timeit -n1 -r1 -o np.linalg.solve(A,b)\n",
    "    res_solve[i] = res_aux.average\n"
   ]
  },
  {
   "cell_type": "markdown",
   "metadata": {},
   "source": [
    "## Exibindo a diferença de desempenho"
   ]
  },
  {
   "cell_type": "markdown",
   "metadata": {},
   "source": [
    "### Média e desvio padrão"
   ]
  },
  {
   "cell_type": "code",
   "execution_count": 4,
   "metadata": {},
   "outputs": [
    {
     "name": "stdout",
     "output_type": "stream",
     "text": [
      "0.021293171135655896\n",
      "0.01992491915179699\n"
     ]
    }
   ],
   "source": [
    "print(np.mean(res_regra))\n",
    "print(np.std(res_regra))"
   ]
  },
  {
   "cell_type": "code",
   "execution_count": 5,
   "metadata": {},
   "outputs": [
    {
     "name": "stdout",
     "output_type": "stream",
     "text": [
      "0.0004721631929460125\n",
      "0.0006444801130936833\n"
     ]
    }
   ],
   "source": [
    "print(np.mean(res_solve))\n",
    "print(np.std(res_solve))"
   ]
  },
  {
   "cell_type": "markdown",
   "metadata": {},
   "source": [
    "### Comparação gráfica"
   ]
  },
  {
   "cell_type": "code",
   "execution_count": 6,
   "metadata": {},
   "outputs": [],
   "source": [
    "import matplotlib.pyplot as plt"
   ]
  },
  {
   "cell_type": "code",
   "execution_count": 7,
   "metadata": {},
   "outputs": [
    {
     "data": {
      "text/plain": [
       "[]"
      ]
     },
     "execution_count": 7,
     "metadata": {},
     "output_type": "execute_result"
    },
    {
     "data": {
      "image/png": "[encoded data removed]",
      "text/plain": [
       "<Figure size 432x288 with 1 Axes>"
      ]
     },
     "metadata": {},
     "output_type": "display_data"
    }
   ],
   "source": [
    "_ = plt.hist(res_regra)\n",
    "_ = plt.title('Histograma de regra_de_cramer')\n",
    "plt.plot()"
   ]
  },
  {
   "cell_type": "code",
   "execution_count": 8,
   "metadata": {},
   "outputs": [
    {
     "data": {
      "text/plain": [
       "[]"
      ]
     },
     "execution_count": 8,
     "metadata": {},
     "output_type": "execute_result"
    },
    {
     "data": {
      "image/png": "[encoded data removed]",
      "text/plain": [
       "<Figure size 432x288 with 1 Axes>"
      ]
     },
     "metadata": {},
     "output_type": "display_data"
    }
   ],
   "source": [
    "_ = plt.hist(res_solve)\n",
    "_ = plt.title('Histograma de np.linalg.solve')\n",
    "plt.plot()"
   ]
  },
  {
   "cell_type": "code",
   "execution_count": 9,
   "metadata": {},
   "outputs": [
    {
     "data": {
      "image/png": "[encoded data removed]",
      "text/plain": [
       "<Figure size 432x288 with 1 Axes>"
      ]
     },
     "metadata": {},
     "output_type": "display_data"
    }
   ],
   "source": [
    "data = [res_regra, res_solve]\n",
    "\n",
    "# Multiple box plots on one Axes\n",
    "fig, ax = plt.subplots()\n",
    "ax.boxplot(data)\n",
    "ax.set_xlabel('métodos')\n",
    "ax.set_ylabel('tempo de execução')\n",
    "ax.set_xticklabels(['Regra de Cramer', 'numpy.linalg.solve'])\n",
    "\n",
    "plt.show()"
   ]
  },
  {
   "cell_type": "markdown",
   "metadata": {},
   "source": [
    "Como visto acima, o uso da regra de cramer é ruim computacionalmente - e, de fato, a função [*numpy.linalg.solve*](https://docs.scipy.org/doc/numpy/reference/generated/numpy.linalg.solve.html) é implementada por meio da rotina [LAPACK _gesv](https://software.intel.com/en-us/mkl-developer-reference-c-gesv), a qual, conforme sua documentação, se vale da *decomposição LU*.\n",
    "\n",
    "\"The $LU$ decomposition with partial pivoting and row interchanges is used to factor $A$ as $A = P*L*U$, where $P$ is a permutation matrix, $L$ is unit lower triangular, and $U$ is upper triangular. The factored form of $A$ is then used to solve the system of equations $A*X = B$ .\""
   ]
  }
 ],
 "metadata": {
  "kernelspec": {
   "display_name": "Python 3",
   "language": "python",
   "name": "python3"
  },
  "language_info": {
   "codemirror_mode": {
    "name": "ipython",
    "version": 3
   },
   "file_extension": ".py",
   "mimetype": "text/x-python",
   "name": "python",
   "nbconvert_exporter": "python",
   "pygments_lexer": "ipython3",
   "version": "3.6.5"
  }
 },
 "nbformat": 4,
 "nbformat_minor": 2
}
