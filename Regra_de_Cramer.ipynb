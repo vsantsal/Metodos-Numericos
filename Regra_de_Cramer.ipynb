{
 "cells": [
  {
   "cell_type": "markdown",
   "metadata": {},
   "source": [
    "# Métodos diretos de resolução de sistemas lineares - A Regra de Cramer"
   ]
  },
  {
   "cell_type": "markdown",
   "metadata": {},
   "source": [
    "Há diversas formas de resolver sistemas lineares $n x n$. Uma maneira popular entre os estudantes de ensino médio é a regra de Cramer.\n",
    "\n",
    "Para um sistema $Ax = b$ de ordem $n$, calculamos o determinante $D$ da matriz $A$ e, para cada $x_j, j = 1, \\dots, n$, calculamos os respectivos determinantes $D_j$, que são os determinantes das matrizes obtidas a partir de $A$ substituindo-se a coluna $j$ pelo vetor $b$.\n",
    "\n",
    "Os valores das variáveis serão $x_1 = \\frac{D_1}{D}, \\dots, x_n = \\frac{D_n}{D}$.\n",
    "\n",
    "No entanto, é notória a ineficiência computacional deste método, cuja complexidade é de ordem fatorial, conforme exibiremos brevemente mais abaixo, mesmo utilizando cálculo de determinante de forma otimizada, disponível no módulo [*numpy*](http://www.numpy.org/)."
   ]
  },
  {
   "cell_type": "markdown",
   "metadata": {},
   "source": [
    "## Regra de Cramer"
   ]
  },
  {
   "cell_type": "markdown",
   "metadata": {},
   "source": [
    "Importaremos o módulo *numpy* para utilizar sua função de cálculo de determinante para uma matriz quadrada, dentro de nossa rotina de implementação da regra de Cramer."
   ]
  },
  {
   "cell_type": "code",
   "execution_count": 1,
   "metadata": {},
   "outputs": [],
   "source": [
    "#importando o numpy (alias np)\n",
    "import numpy as np"
   ]
  },
  {
   "cell_type": "markdown",
   "metadata": {},
   "source": [
    "Definição da função *regra_de_cramer*, que receberá dois parâmetros:\n",
    "\n",
    "* Uma matriz quadrada $A$ de ordem $n$ (matriz dos coeficientes do sistema)\n",
    "* Um vetor $b$ de dimensão $n$ (vetor constante)\n",
    "\n",
    "O resultado da função será o vetor $x$, também de ordem $n$ (*vetor solução do sistema*).\n",
    "\n",
    "Restringiremos nossa função a sistemas de soluções únicas."
   ]
  },
  {
   "cell_type": "code",
   "execution_count": 2,
   "metadata": {},
   "outputs": [],
   "source": [
    "#definindo função\n",
    "def regra_de_cramer(matriz_coef, vetor_const):\n",
    "    \n",
    "    \"\"\"\n",
    "    Conforme explicado na célula anterior, a função recebe dois argumentos (uma matriz quadrada e \n",
    "    um vetor) e retorna um vetor solução para o sistema\n",
    "    \"\"\"    \n",
    "    \n",
    "    #série de verificações sobre os argumentos da função\n",
    "    if vetor_const.ndim > 1:\n",
    "        raise Exception('O segundo argumento deve ser um vetor unidimensional!')\n",
    "    \n",
    "    if matriz_coef.ndim > 2:\n",
    "        raise Exception('O primeiro argumento deve ser uma matriz, isto é, um array bidimensional!')\n",
    "    \n",
    "    if matriz_coef.shape[0] != matriz_coef.shape[1]:\n",
    "        raise Exception('O primeiro argumento deve ser uma matriz quadrada!')\n",
    "    \n",
    "    #garantindo que o input é matriz\n",
    "    matriz_coef = np.asmatrix(matriz_coef)\n",
    "    \n",
    "    #determinante da matriz de coeficientes A\n",
    "    d = np.linalg.det(matriz_coef)\n",
    "    \n",
    "    #A rotina será limitada a sistemas com solução única.\n",
    "    if d == 0:\n",
    "        raise Exception('O primeiro argumento deve ser uma matriz quadrada com determinante diferente de zero')\n",
    "        \n",
    "    #Criação de vetor que receberá os determinantes obtidos pelas permutações das colunas de A com o vetor b\n",
    "    d_is = np.empty(vetor_const.size)\n",
    "    \n",
    "    #loop para preenchimento do vetor com os determinantes\n",
    "    for x in range(vetor_const.size):\n",
    "        \n",
    "        #criação de matriz temporária\n",
    "        #np.copy para que matriz_temp e matriz_coef sejam objetos diferentes (e não nomes diferentes para a mesma referência)\n",
    "        #np.asmatrix para converter para matriz o resultado de np.copy\n",
    "        matriz_temp = np.asmatrix(np.copy(matriz_coef))\n",
    "                        \n",
    "        #substituição da i-ésima coluna pelo vetor b\n",
    "        #necessário converter o vetor b para matriz (np.asmatrix) e transpor (.T)\n",
    "        matriz_temp[:, x] = np.asmatrix(vetor_const).T\n",
    "                        \n",
    "        #determinante da matriz temporária e armazenamento no vetor de determinantes\n",
    "        d_is[x] = np.linalg.det(matriz_temp)\n",
    "                            \n",
    "    #list comprehension com os determinantes\n",
    "    x = [i/d for i in d_is]\n",
    "        \n",
    "    #resultado da função (convertendo em numpy array)\n",
    "    return np.array(x)"
   ]
  },
  {
   "cell_type": "markdown",
   "metadata": {},
   "source": [
    "## Testes de performance"
   ]
  },
  {
   "cell_type": "markdown",
   "metadata": {},
   "source": [
    "Conforme o tamanho do sistema cresce, sabemos que o desempenho cairá drasticamente, como dito acima.\n",
    "\n",
    "Exibiremos abaixo uma pequena bateria de testes exemplificando, fazendo o número de equações e incógnitas de nosso sistema, $n$, variar de 1 a 1000.\n",
    "\n",
    "Evidentemente, como construímos a função *regra_de_cramer* sobre o módulo *numpy*, já otimizado, não teremos decaimento de performance absurda, mas a comparação de *regra_de_cramer* com a função *numpy.linalg.solve* será bastante ilustrativa."
   ]
  },
  {
   "cell_type": "code",
   "execution_count": 3,
   "metadata": {},
   "outputs": [
    {
     "name": "stdout",
     "output_type": "stream",
     "text": [
      "26 ms ± 0 ns per loop (mean ± std. dev. of 1 run, 1 loop each)\n",
      "431 µs ± 0 ns per loop (mean ± std. dev. of 1 run, 1 loop each)\n",
      "607 µs ± 0 ns per loop (mean ± std. dev. of 1 run, 1 loop each)\n",
      "212 µs ± 0 ns per loop (mean ± std. dev. of 1 run, 1 loop each)\n",
      "933 µs ± 0 ns per loop (mean ± std. dev. of 1 run, 1 loop each)\n",
      "216 µs ± 0 ns per loop (mean ± std. dev. of 1 run, 1 loop each)\n",
      "850 µs ± 0 ns per loop (mean ± std. dev. of 1 run, 1 loop each)\n",
      "209 µs ± 0 ns per loop (mean ± std. dev. of 1 run, 1 loop each)\n",
      "1.09 ms ± 0 ns per loop (mean ± std. dev. of 1 run, 1 loop each)\n",
      "227 µs ± 0 ns per loop (mean ± std. dev. of 1 run, 1 loop each)\n",
      "1.19 ms ± 0 ns per loop (mean ± std. dev. of 1 run, 1 loop each)\n",
      "326 µs ± 0 ns per loop (mean ± std. dev. of 1 run, 1 loop each)\n",
      "1.35 ms ± 0 ns per loop (mean ± std. dev. of 1 run, 1 loop each)\n",
      "211 µs ± 0 ns per loop (mean ± std. dev. of 1 run, 1 loop each)\n",
      "1.59 ms ± 0 ns per loop (mean ± std. dev. of 1 run, 1 loop each)\n",
      "188 µs ± 0 ns per loop (mean ± std. dev. of 1 run, 1 loop each)\n",
      "1.69 ms ± 0 ns per loop (mean ± std. dev. of 1 run, 1 loop each)\n",
      "190 µs ± 0 ns per loop (mean ± std. dev. of 1 run, 1 loop each)\n",
      "1.97 ms ± 0 ns per loop (mean ± std. dev. of 1 run, 1 loop each)\n",
      "13.7 ms ± 0 ns per loop (mean ± std. dev. of 1 run, 1 loop each)\n",
      "2.01 ms ± 0 ns per loop (mean ± std. dev. of 1 run, 1 loop each)\n",
      "197 µs ± 0 ns per loop (mean ± std. dev. of 1 run, 1 loop each)\n",
      "2.22 ms ± 0 ns per loop (mean ± std. dev. of 1 run, 1 loop each)\n",
      "206 µs ± 0 ns per loop (mean ± std. dev. of 1 run, 1 loop each)\n",
      "3.63 ms ± 0 ns per loop (mean ± std. dev. of 1 run, 1 loop each)\n",
      "205 µs ± 0 ns per loop (mean ± std. dev. of 1 run, 1 loop each)\n",
      "2.37 ms ± 0 ns per loop (mean ± std. dev. of 1 run, 1 loop each)\n",
      "193 µs ± 0 ns per loop (mean ± std. dev. of 1 run, 1 loop each)\n",
      "2.68 ms ± 0 ns per loop (mean ± std. dev. of 1 run, 1 loop each)\n",
      "207 µs ± 0 ns per loop (mean ± std. dev. of 1 run, 1 loop each)\n",
      "29.7 ms ± 0 ns per loop (mean ± std. dev. of 1 run, 1 loop each)\n",
      "224 µs ± 0 ns per loop (mean ± std. dev. of 1 run, 1 loop each)\n",
      "3.19 ms ± 0 ns per loop (mean ± std. dev. of 1 run, 1 loop each)\n",
      "243 µs ± 0 ns per loop (mean ± std. dev. of 1 run, 1 loop each)\n",
      "6.33 ms ± 0 ns per loop (mean ± std. dev. of 1 run, 1 loop each)\n",
      "261 µs ± 0 ns per loop (mean ± std. dev. of 1 run, 1 loop each)\n",
      "7.74 ms ± 0 ns per loop (mean ± std. dev. of 1 run, 1 loop each)\n",
      "254 µs ± 0 ns per loop (mean ± std. dev. of 1 run, 1 loop each)\n",
      "4.52 ms ± 0 ns per loop (mean ± std. dev. of 1 run, 1 loop each)\n",
      "286 µs ± 0 ns per loop (mean ± std. dev. of 1 run, 1 loop each)\n",
      "6.28 ms ± 0 ns per loop (mean ± std. dev. of 1 run, 1 loop each)\n",
      "484 µs ± 0 ns per loop (mean ± std. dev. of 1 run, 1 loop each)\n",
      "6.51 ms ± 0 ns per loop (mean ± std. dev. of 1 run, 1 loop each)\n",
      "298 µs ± 0 ns per loop (mean ± std. dev. of 1 run, 1 loop each)\n",
      "6.99 ms ± 0 ns per loop (mean ± std. dev. of 1 run, 1 loop each)\n",
      "324 µs ± 0 ns per loop (mean ± std. dev. of 1 run, 1 loop each)\n",
      "7.6 ms ± 0 ns per loop (mean ± std. dev. of 1 run, 1 loop each)\n",
      "287 µs ± 0 ns per loop (mean ± std. dev. of 1 run, 1 loop each)\n",
      "7.4 ms ± 0 ns per loop (mean ± std. dev. of 1 run, 1 loop each)\n",
      "263 µs ± 0 ns per loop (mean ± std. dev. of 1 run, 1 loop each)\n",
      "6.92 ms ± 0 ns per loop (mean ± std. dev. of 1 run, 1 loop each)\n",
      "282 µs ± 0 ns per loop (mean ± std. dev. of 1 run, 1 loop each)\n",
      "6.52 ms ± 0 ns per loop (mean ± std. dev. of 1 run, 1 loop each)\n",
      "271 µs ± 0 ns per loop (mean ± std. dev. of 1 run, 1 loop each)\n",
      "7.21 ms ± 0 ns per loop (mean ± std. dev. of 1 run, 1 loop each)\n",
      "291 µs ± 0 ns per loop (mean ± std. dev. of 1 run, 1 loop each)\n",
      "8.05 ms ± 0 ns per loop (mean ± std. dev. of 1 run, 1 loop each)\n",
      "290 µs ± 0 ns per loop (mean ± std. dev. of 1 run, 1 loop each)\n",
      "9.74 ms ± 0 ns per loop (mean ± std. dev. of 1 run, 1 loop each)\n",
      "300 µs ± 0 ns per loop (mean ± std. dev. of 1 run, 1 loop each)\n",
      "9.06 ms ± 0 ns per loop (mean ± std. dev. of 1 run, 1 loop each)\n",
      "302 µs ± 0 ns per loop (mean ± std. dev. of 1 run, 1 loop each)\n",
      "8.99 ms ± 0 ns per loop (mean ± std. dev. of 1 run, 1 loop each)\n",
      "330 µs ± 0 ns per loop (mean ± std. dev. of 1 run, 1 loop each)\n",
      "11.1 ms ± 0 ns per loop (mean ± std. dev. of 1 run, 1 loop each)\n",
      "327 µs ± 0 ns per loop (mean ± std. dev. of 1 run, 1 loop each)\n",
      "9.48 ms ± 0 ns per loop (mean ± std. dev. of 1 run, 1 loop each)\n",
      "343 µs ± 0 ns per loop (mean ± std. dev. of 1 run, 1 loop each)\n",
      "14.4 ms ± 0 ns per loop (mean ± std. dev. of 1 run, 1 loop each)\n",
      "327 µs ± 0 ns per loop (mean ± std. dev. of 1 run, 1 loop each)\n",
      "9.82 ms ± 0 ns per loop (mean ± std. dev. of 1 run, 1 loop each)\n",
      "320 µs ± 0 ns per loop (mean ± std. dev. of 1 run, 1 loop each)\n",
      "9.74 ms ± 0 ns per loop (mean ± std. dev. of 1 run, 1 loop each)\n",
      "983 µs ± 0 ns per loop (mean ± std. dev. of 1 run, 1 loop each)\n",
      "12.6 ms ± 0 ns per loop (mean ± std. dev. of 1 run, 1 loop each)\n",
      "337 µs ± 0 ns per loop (mean ± std. dev. of 1 run, 1 loop each)\n",
      "12.1 ms ± 0 ns per loop (mean ± std. dev. of 1 run, 1 loop each)\n",
      "338 µs ± 0 ns per loop (mean ± std. dev. of 1 run, 1 loop each)\n",
      "21 ms ± 0 ns per loop (mean ± std. dev. of 1 run, 1 loop each)\n",
      "335 µs ± 0 ns per loop (mean ± std. dev. of 1 run, 1 loop each)\n",
      "12.4 ms ± 0 ns per loop (mean ± std. dev. of 1 run, 1 loop each)\n",
      "327 µs ± 0 ns per loop (mean ± std. dev. of 1 run, 1 loop each)\n",
      "20.9 ms ± 0 ns per loop (mean ± std. dev. of 1 run, 1 loop each)\n",
      "1.16 ms ± 0 ns per loop (mean ± std. dev. of 1 run, 1 loop each)\n",
      "22.1 ms ± 0 ns per loop (mean ± std. dev. of 1 run, 1 loop each)\n",
      "397 µs ± 0 ns per loop (mean ± std. dev. of 1 run, 1 loop each)\n",
      "12.1 ms ± 0 ns per loop (mean ± std. dev. of 1 run, 1 loop each)\n",
      "331 µs ± 0 ns per loop (mean ± std. dev. of 1 run, 1 loop each)\n",
      "12.3 ms ± 0 ns per loop (mean ± std. dev. of 1 run, 1 loop each)\n",
      "435 µs ± 0 ns per loop (mean ± std. dev. of 1 run, 1 loop each)\n",
      "15 ms ± 0 ns per loop (mean ± std. dev. of 1 run, 1 loop each)\n",
      "383 µs ± 0 ns per loop (mean ± std. dev. of 1 run, 1 loop each)\n",
      "17.8 ms ± 0 ns per loop (mean ± std. dev. of 1 run, 1 loop each)\n",
      "383 µs ± 0 ns per loop (mean ± std. dev. of 1 run, 1 loop each)\n",
      "16.9 ms ± 0 ns per loop (mean ± std. dev. of 1 run, 1 loop each)\n",
      "379 µs ± 0 ns per loop (mean ± std. dev. of 1 run, 1 loop each)\n",
      "14.9 ms ± 0 ns per loop (mean ± std. dev. of 1 run, 1 loop each)\n",
      "314 µs ± 0 ns per loop (mean ± std. dev. of 1 run, 1 loop each)\n",
      "15.1 ms ± 0 ns per loop (mean ± std. dev. of 1 run, 1 loop each)\n",
      "330 µs ± 0 ns per loop (mean ± std. dev. of 1 run, 1 loop each)\n",
      "17.1 ms ± 0 ns per loop (mean ± std. dev. of 1 run, 1 loop each)\n",
      "338 µs ± 0 ns per loop (mean ± std. dev. of 1 run, 1 loop each)\n",
      "16.7 ms ± 0 ns per loop (mean ± std. dev. of 1 run, 1 loop each)\n",
      "341 µs ± 0 ns per loop (mean ± std. dev. of 1 run, 1 loop each)\n",
      "19.4 ms ± 0 ns per loop (mean ± std. dev. of 1 run, 1 loop each)\n",
      "254 µs ± 0 ns per loop (mean ± std. dev. of 1 run, 1 loop each)\n",
      "12.8 ms ± 0 ns per loop (mean ± std. dev. of 1 run, 1 loop each)\n",
      "243 µs ± 0 ns per loop (mean ± std. dev. of 1 run, 1 loop each)\n",
      "13.5 ms ± 0 ns per loop (mean ± std. dev. of 1 run, 1 loop each)\n",
      "245 µs ± 0 ns per loop (mean ± std. dev. of 1 run, 1 loop each)\n",
      "9.74 ms ± 0 ns per loop (mean ± std. dev. of 1 run, 1 loop each)\n",
      "239 µs ± 0 ns per loop (mean ± std. dev. of 1 run, 1 loop each)\n",
      "14 ms ± 0 ns per loop (mean ± std. dev. of 1 run, 1 loop each)\n",
      "334 µs ± 0 ns per loop (mean ± std. dev. of 1 run, 1 loop each)\n",
      "19.3 ms ± 0 ns per loop (mean ± std. dev. of 1 run, 1 loop each)\n",
      "355 µs ± 0 ns per loop (mean ± std. dev. of 1 run, 1 loop each)\n",
      "15.6 ms ± 0 ns per loop (mean ± std. dev. of 1 run, 1 loop each)\n",
      "258 µs ± 0 ns per loop (mean ± std. dev. of 1 run, 1 loop each)\n",
      "15 ms ± 0 ns per loop (mean ± std. dev. of 1 run, 1 loop each)\n",
      "280 µs ± 0 ns per loop (mean ± std. dev. of 1 run, 1 loop each)\n",
      "12.7 ms ± 0 ns per loop (mean ± std. dev. of 1 run, 1 loop each)\n",
      "248 µs ± 0 ns per loop (mean ± std. dev. of 1 run, 1 loop each)\n",
      "15.6 ms ± 0 ns per loop (mean ± std. dev. of 1 run, 1 loop each)\n",
      "381 µs ± 0 ns per loop (mean ± std. dev. of 1 run, 1 loop each)\n",
      "24.4 ms ± 0 ns per loop (mean ± std. dev. of 1 run, 1 loop each)\n",
      "464 µs ± 0 ns per loop (mean ± std. dev. of 1 run, 1 loop each)\n",
      "28.4 ms ± 0 ns per loop (mean ± std. dev. of 1 run, 1 loop each)\n",
      "390 µs ± 0 ns per loop (mean ± std. dev. of 1 run, 1 loop each)\n",
      "38.4 ms ± 0 ns per loop (mean ± std. dev. of 1 run, 1 loop each)\n",
      "627 µs ± 0 ns per loop (mean ± std. dev. of 1 run, 1 loop each)\n",
      "66.4 ms ± 0 ns per loop (mean ± std. dev. of 1 run, 1 loop each)\n",
      "1.02 ms ± 0 ns per loop (mean ± std. dev. of 1 run, 1 loop each)\n"
     ]
    },
    {
     "name": "stdout",
     "output_type": "stream",
     "text": [
      "73.3 ms ± 0 ns per loop (mean ± std. dev. of 1 run, 1 loop each)\n",
      "968 µs ± 0 ns per loop (mean ± std. dev. of 1 run, 1 loop each)\n",
      "72.4 ms ± 0 ns per loop (mean ± std. dev. of 1 run, 1 loop each)\n",
      "1.07 ms ± 0 ns per loop (mean ± std. dev. of 1 run, 1 loop each)\n",
      "62.8 ms ± 0 ns per loop (mean ± std. dev. of 1 run, 1 loop each)\n",
      "535 µs ± 0 ns per loop (mean ± std. dev. of 1 run, 1 loop each)\n",
      "66.2 ms ± 0 ns per loop (mean ± std. dev. of 1 run, 1 loop each)\n",
      "892 µs ± 0 ns per loop (mean ± std. dev. of 1 run, 1 loop each)\n",
      "59.7 ms ± 0 ns per loop (mean ± std. dev. of 1 run, 1 loop each)\n",
      "464 µs ± 0 ns per loop (mean ± std. dev. of 1 run, 1 loop each)\n",
      "23.5 ms ± 0 ns per loop (mean ± std. dev. of 1 run, 1 loop each)\n",
      "463 µs ± 0 ns per loop (mean ± std. dev. of 1 run, 1 loop each)\n",
      "26.2 ms ± 0 ns per loop (mean ± std. dev. of 1 run, 1 loop each)\n",
      "365 µs ± 0 ns per loop (mean ± std. dev. of 1 run, 1 loop each)\n",
      "24.2 ms ± 0 ns per loop (mean ± std. dev. of 1 run, 1 loop each)\n",
      "427 µs ± 0 ns per loop (mean ± std. dev. of 1 run, 1 loop each)\n",
      "19.1 ms ± 0 ns per loop (mean ± std. dev. of 1 run, 1 loop each)\n",
      "437 µs ± 0 ns per loop (mean ± std. dev. of 1 run, 1 loop each)\n",
      "28.9 ms ± 0 ns per loop (mean ± std. dev. of 1 run, 1 loop each)\n",
      "325 µs ± 0 ns per loop (mean ± std. dev. of 1 run, 1 loop each)\n",
      "20.3 ms ± 0 ns per loop (mean ± std. dev. of 1 run, 1 loop each)\n",
      "436 µs ± 0 ns per loop (mean ± std. dev. of 1 run, 1 loop each)\n",
      "47.2 ms ± 0 ns per loop (mean ± std. dev. of 1 run, 1 loop each)\n",
      "447 µs ± 0 ns per loop (mean ± std. dev. of 1 run, 1 loop each)\n",
      "22.9 ms ± 0 ns per loop (mean ± std. dev. of 1 run, 1 loop each)\n",
      "412 µs ± 0 ns per loop (mean ± std. dev. of 1 run, 1 loop each)\n",
      "29.3 ms ± 0 ns per loop (mean ± std. dev. of 1 run, 1 loop each)\n",
      "492 µs ± 0 ns per loop (mean ± std. dev. of 1 run, 1 loop each)\n",
      "41.1 ms ± 0 ns per loop (mean ± std. dev. of 1 run, 1 loop each)\n",
      "384 µs ± 0 ns per loop (mean ± std. dev. of 1 run, 1 loop each)\n",
      "37.9 ms ± 0 ns per loop (mean ± std. dev. of 1 run, 1 loop each)\n",
      "460 µs ± 0 ns per loop (mean ± std. dev. of 1 run, 1 loop each)\n",
      "38.9 ms ± 0 ns per loop (mean ± std. dev. of 1 run, 1 loop each)\n",
      "816 µs ± 0 ns per loop (mean ± std. dev. of 1 run, 1 loop each)\n",
      "34.5 ms ± 0 ns per loop (mean ± std. dev. of 1 run, 1 loop each)\n",
      "548 µs ± 0 ns per loop (mean ± std. dev. of 1 run, 1 loop each)\n",
      "31.2 ms ± 0 ns per loop (mean ± std. dev. of 1 run, 1 loop each)\n",
      "441 µs ± 0 ns per loop (mean ± std. dev. of 1 run, 1 loop each)\n",
      "26.3 ms ± 0 ns per loop (mean ± std. dev. of 1 run, 1 loop each)\n",
      "355 µs ± 0 ns per loop (mean ± std. dev. of 1 run, 1 loop each)\n",
      "21.2 ms ± 0 ns per loop (mean ± std. dev. of 1 run, 1 loop each)\n",
      "435 µs ± 0 ns per loop (mean ± std. dev. of 1 run, 1 loop each)\n",
      "33.9 ms ± 0 ns per loop (mean ± std. dev. of 1 run, 1 loop each)\n",
      "379 µs ± 0 ns per loop (mean ± std. dev. of 1 run, 1 loop each)\n",
      "24.9 ms ± 0 ns per loop (mean ± std. dev. of 1 run, 1 loop each)\n",
      "460 µs ± 0 ns per loop (mean ± std. dev. of 1 run, 1 loop each)\n",
      "23.2 ms ± 0 ns per loop (mean ± std. dev. of 1 run, 1 loop each)\n",
      "362 µs ± 0 ns per loop (mean ± std. dev. of 1 run, 1 loop each)\n",
      "31.2 ms ± 0 ns per loop (mean ± std. dev. of 1 run, 1 loop each)\n",
      "502 µs ± 0 ns per loop (mean ± std. dev. of 1 run, 1 loop each)\n",
      "42.2 ms ± 0 ns per loop (mean ± std. dev. of 1 run, 1 loop each)\n",
      "389 µs ± 0 ns per loop (mean ± std. dev. of 1 run, 1 loop each)\n",
      "50.4 ms ± 0 ns per loop (mean ± std. dev. of 1 run, 1 loop each)\n",
      "597 µs ± 0 ns per loop (mean ± std. dev. of 1 run, 1 loop each)\n",
      "32 ms ± 0 ns per loop (mean ± std. dev. of 1 run, 1 loop each)\n",
      "537 µs ± 0 ns per loop (mean ± std. dev. of 1 run, 1 loop each)\n",
      "35.2 ms ± 0 ns per loop (mean ± std. dev. of 1 run, 1 loop each)\n",
      "352 µs ± 0 ns per loop (mean ± std. dev. of 1 run, 1 loop each)\n",
      "29.9 ms ± 0 ns per loop (mean ± std. dev. of 1 run, 1 loop each)\n",
      "510 µs ± 0 ns per loop (mean ± std. dev. of 1 run, 1 loop each)\n",
      "40.4 ms ± 0 ns per loop (mean ± std. dev. of 1 run, 1 loop each)\n",
      "376 µs ± 0 ns per loop (mean ± std. dev. of 1 run, 1 loop each)\n",
      "29.5 ms ± 0 ns per loop (mean ± std. dev. of 1 run, 1 loop each)\n",
      "468 µs ± 0 ns per loop (mean ± std. dev. of 1 run, 1 loop each)\n",
      "37.1 ms ± 0 ns per loop (mean ± std. dev. of 1 run, 1 loop each)\n",
      "378 µs ± 0 ns per loop (mean ± std. dev. of 1 run, 1 loop each)\n",
      "31.2 ms ± 0 ns per loop (mean ± std. dev. of 1 run, 1 loop each)\n",
      "383 µs ± 0 ns per loop (mean ± std. dev. of 1 run, 1 loop each)\n"
     ]
    }
   ],
   "source": [
    "#número de execuções da bateria\n",
    "n = 100\n",
    "\n",
    "#arrays para armazenar os tempos de execução de cada função\n",
    "res_regra = np.empty(n)\n",
    "res_solve = np.empty(n)\n",
    "\n",
    "for i in range(n):\n",
    "    \n",
    "    #estabelecimento de matriz quadrada (elementos provindo de uma distribuição normal padrão)\n",
    "    A = np.asmatrix(np.random.randn(i, i))\n",
    "    \n",
    "    #estabelecimento do vetor constante\n",
    "    b = np.random.randn(i)\n",
    "    \n",
    "    #https://stackoverflow.com/questions/52738709/how-to-store-time-values-in-a-variable-in-jupyter\n",
    "    #no endereço acima há uma resposta mostrando como armazenar em uma variável os resultados de %timeit\n",
    "    #e explicando o significado dos parâmetros -n1 -r1 e -o\n",
    "    \n",
    "    res_aux = %timeit -n1 -r1 -o regra_de_cramer(A,b)\n",
    "    res_regra[i] = res_aux.average\n",
    "    res_aux = %timeit -n1 -r1 -o np.linalg.solve(A,b)\n",
    "    res_solve[i] = res_aux.average\n"
   ]
  },
  {
   "cell_type": "markdown",
   "metadata": {},
   "source": [
    "## Exibindo a diferença de desempenho"
   ]
  },
  {
   "cell_type": "markdown",
   "metadata": {},
   "source": [
    "### Média e desvio padrão"
   ]
  },
  {
   "cell_type": "code",
   "execution_count": 4,
   "metadata": {},
   "outputs": [
    {
     "name": "stdout",
     "output_type": "stream",
     "text": [
      "Para a função regra_de_cramer temos: \n",
      " \n",
      " A média do tempo de execução é de 0.020396 \n",
      " O desvio padrão do tempo de execução é de 0.016754 \n",
      " O tempo de execução máximo é de 0.073287 \n",
      " O tempo de execução mínimo é de 0.000607 \n",
      "\n"
     ]
    }
   ],
   "source": [
    "print(\"Para a função regra_de_cramer temos: \\n \\n\",\n",
    "     f\"A média do tempo de execução é de {round(np.mean(res_regra), 6)} \\n\",\n",
    "     f\"O desvio padrão do tempo de execução é de {round(np.std(res_regra), 6)} \\n\",\n",
    "     f\"O tempo de execução máximo é de {round(np.amax(res_regra), 6)} \\n\",\n",
    "     f\"O tempo de execução mínimo é de {round(np.amin(res_regra), 6)} \\n\")"
   ]
  },
  {
   "cell_type": "code",
   "execution_count": 5,
   "metadata": {},
   "outputs": [
    {
     "name": "stdout",
     "output_type": "stream",
     "text": [
      "Para a função numpy.linalg.solve temos: \n",
      " \n",
      " A média do tempo de execução é de 0.000525 \n",
      " O desvio padrão do tempo de execução é de 0.001339 \n",
      " O tempo de execução máximo é de 0.013708 \n",
      " O tempo de execução mínimo é de 0.000188 \n",
      "\n"
     ]
    }
   ],
   "source": [
    "print(\"Para a função numpy.linalg.solve temos: \\n \\n\",\n",
    "     f\"A média do tempo de execução é de {round(np.mean(res_solve), 6)} \\n\",\n",
    "     f\"O desvio padrão do tempo de execução é de {round(np.std(res_solve), 6)} \\n\",\n",
    "     f\"O tempo de execução máximo é de {round(np.amax(res_solve), 6)} \\n\",\n",
    "     f\"O tempo de execução mínimo é de {round(np.amin(res_solve), 6)} \\n\")\n"
   ]
  },
  {
   "cell_type": "markdown",
   "metadata": {},
   "source": [
    "### Comparação gráfica"
   ]
  },
  {
   "cell_type": "code",
   "execution_count": 6,
   "metadata": {},
   "outputs": [],
   "source": [
    "import matplotlib.pyplot as plt"
   ]
  },
  {
   "cell_type": "code",
   "execution_count": 7,
   "metadata": {},
   "outputs": [
    {
     "data": {
      "image/png": "[encoded data removed]",
      "text/plain": [
       "<Figure size 432x288 with 1 Axes>"
      ]
     },
     "metadata": {},
     "output_type": "display_data"
    }
   ],
   "source": [
    "_ = plt.hist(res_regra)\n",
    "_ = plt.title('Histograma de regra_de_cramer')\n",
    "plt.show()"
   ]
  },
  {
   "cell_type": "code",
   "execution_count": 8,
   "metadata": {},
   "outputs": [
    {
     "data": {
      "image/png": "[encoded data removed]",
      "text/plain": [
       "<Figure size 432x288 with 1 Axes>"
      ]
     },
     "metadata": {},
     "output_type": "display_data"
    }
   ],
   "source": [
    "_ = plt.hist(res_solve)\n",
    "_ = plt.title('Histograma de np.linalg.solve')\n",
    "plt.show()"
   ]
  },
  {
   "cell_type": "code",
   "execution_count": 9,
   "metadata": {},
   "outputs": [
    {
     "data": {
      "image/png": "[encoded data removed]",
      "text/plain": [
       "<Figure size 432x288 with 1 Axes>"
      ]
     },
     "metadata": {},
     "output_type": "display_data"
    }
   ],
   "source": [
    "#armazenado os resultados em uma variável\n",
    "data = [res_regra, res_solve]\n",
    "\n",
    "# Multiple box plots on one Axes\n",
    "fig, ax = plt.subplots()\n",
    "ax.boxplot(data)\n",
    "ax.set_xlabel('métodos')\n",
    "ax.set_ylabel('tempo de execução')\n",
    "ax.set_xticklabels(['Regra de Cramer', 'numpy.linalg.solve'])\n",
    "\n",
    "plt.show()"
   ]
  },
  {
   "cell_type": "code",
   "execution_count": 10,
   "metadata": {},
   "outputs": [
    {
     "data": {
      "image/png": "[encoded data removed]",
      "text/plain": [
       "<Figure size 432x288 with 1 Axes>"
      ]
     },
     "metadata": {},
     "output_type": "display_data"
    }
   ],
   "source": [
    "fig, ax = plt.subplots()\n",
    "\n",
    "_ = plt.plot(*zip(*list(enumerate(res_regra, start = 1))[1:]))\n",
    "_ =plt.plot(*zip(*list(enumerate(res_solve, start = 1))[1:]))\n",
    "ax.set_xlabel('Dimensão do sistema linear')\n",
    "ax.set_ylabel('tempo de execução')\n",
    "_ = plt.legend(['Regra de Cramer', 'numpy.linalg.solve'])\n",
    "_ = plt.title('Evolução do tempo de execução conforme sistema cresce')\n",
    "\n",
    "#_ = plt.set_xlabel('Dimensão do sistema linear')\n",
    "#_ = plt.set_ylabel('Tempo de processamento (em milissegundos)')\n",
    "\n",
    "plt.show()"
   ]
  },
  {
   "cell_type": "markdown",
   "metadata": {},
   "source": [
    "Como visto acima, o uso da regra de cramer é ruim computacionalmente - e, de fato, a função [*numpy.linalg.solve*](https://docs.scipy.org/doc/numpy/reference/generated/numpy.linalg.solve.html) é implementada por meio da rotina [LAPACK _gesv](https://software.intel.com/en-us/mkl-developer-reference-c-gesv), a qual, conforme sua documentação, se vale da *decomposição LU*.\n",
    "\n",
    "\"The $LU$ decomposition with partial pivoting and row interchanges is used to factor $A$ as $A = P*L*U$, where $P$ is a permutation matrix, $L$ is unit lower triangular, and $U$ is upper triangular. The factored form of $A$ is then used to solve the system of equations $A*X = B$ .\""
   ]
  }
 ],
 "metadata": {
  "kernelspec": {
   "display_name": "Python 3",
   "language": "python",
   "name": "python3"
  },
  "language_info": {
   "codemirror_mode": {
    "name": "ipython",
    "version": 3
   },
   "file_extension": ".py",
   "mimetype": "text/x-python",
   "name": "python",
   "nbconvert_exporter": "python",
   "pygments_lexer": "ipython3",
   "version": "3.6.5"
  }
 },
 "nbformat": 4,
 "nbformat_minor": 2
}
